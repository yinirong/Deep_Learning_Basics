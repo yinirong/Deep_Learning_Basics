{
 "cells": [
  {
   "cell_type": "code",
   "execution_count": 2,
   "metadata": {
    "tags": []
   },
   "outputs": [],
   "source": [
    "# Run this cell to configure Tensorflow to use your GPU\n",
    "import tensorflow as tf\n",
    "    \n",
    "# tf.config.experimental.set_visible_devices([], 'GPU')\n",
    "# tf.debugging.set_log_device_placement(True)\n",
    "for gpu in tf.config.experimental.list_physical_devices('GPU'):\n",
    "    print(gpu)\n",
    "    tf.config.experimental.set_memory_growth(gpu, True)"
   ]
  },
  {
   "cell_type": "code",
   "execution_count": 3,
   "metadata": {
    "colab": {},
    "colab_type": "code",
    "id": "jw0pLcPHAswy",
    "tags": []
   },
   "outputs": [],
   "source": [
    "import tensorflow as tf\n",
    "import pandas as pd\n",
    "import matplotlib.pyplot as plt\n",
    "import seaborn as sns\n",
    "%config InlineBackend.figure_format = 'retina'\n",
    "sns.set_context('talk')"
   ]
  },
  {
   "cell_type": "code",
   "execution_count": 4,
   "metadata": {
    "colab": {},
    "colab_type": "code",
    "id": "2exSjhzKAsw0",
    "tags": []
   },
   "outputs": [],
   "source": [
    "%%capture\n",
    "prefix = 'https://danylo-ucla.s3-us-west-2.amazonaws.com/app/storage/weather/jobs/transform_batch/20220925-014051_e32aa567fa482e970513332d1d24fd51'\n",
    "\n",
    "train_X = pd.read_parquet(f'{prefix}/train_x.parquet')\n",
    "train_y = pd.read_parquet(f'{prefix}/train_y.parquet')\n",
    "\n",
    "validate_X = pd.read_parquet(f'{prefix}/validate_x.parquet')\n",
    "validate_y = pd.read_parquet(f'{prefix}/validate_y.parquet')\n",
    "\n",
    "test_X = pd.read_parquet(f'{prefix}/test_x.parquet')\n",
    "test_y = pd.read_parquet(f'{prefix}/test_y.parquet')\n",
    "\n",
    "score_X = pd.read_parquet(f'{prefix}/score_x.parquet')\n",
    "\n",
    "condition_window = 24\n",
    "prediction_window = 24\n"
   ]
  },
  {
   "cell_type": "code",
   "execution_count": 5,
   "metadata": {
    "colab": {
     "base_uri": "https://localhost:8080/",
     "height": 170
    },
    "colab_type": "code",
    "id": "TPC6J6f3Asw3",
    "outputId": "d880103c-8e20-4c7b-8473-75ac4ec198f6",
    "tags": []
   },
   "outputs": [
    {
     "name": "stdout",
     "output_type": "stream",
     "text": [
      "<class 'pandas.core.frame.DataFrame'>\n",
      "MultiIndex: 826464 entries, ('Albuquerque/1108/0', Timestamp('2015-02-16 09:00:00')) to ('Vancouver/806/12', Timestamp('2014-07-03 04:00:00'))\n",
      "Data columns (total 4 columns):\n",
      " #   Column       Non-Null Count   Dtype  \n",
      "---  ------       --------------   -----  \n",
      " 0   temperature  826464 non-null  float64\n",
      " 1   humidity     826464 non-null  float64\n",
      " 2   pressure     826464 non-null  float64\n",
      " 3   wind_speed   826464 non-null  float64\n",
      "dtypes: float64(4)\n",
      "memory usage: 31.9+ MB\n"
     ]
    }
   ],
   "source": [
    "train_X.info()"
   ]
  },
  {
   "cell_type": "code",
   "execution_count": 6,
   "metadata": {
    "colab": {
     "base_uri": "https://localhost:8080/",
     "height": 170
    },
    "colab_type": "code",
    "id": "oePar_N2Asw1",
    "outputId": "fe2636ff-5e2c-48d5-a93d-7d3d9fa76a4b",
    "tags": []
   },
   "outputs": [
    {
     "name": "stdout",
     "output_type": "stream",
     "text": [
      "<class 'pandas.core.frame.DataFrame'>\n",
      "MultiIndex: 57576 entries, ('Albuquerque/2249/0', Timestamp('2017-07-15 13:00:00')) to ('Vancouver/2623/10', Timestamp('2017-07-07 20:00:00'))\n",
      "Data columns (total 4 columns):\n",
      " #   Column       Non-Null Count  Dtype  \n",
      "---  ------       --------------  -----  \n",
      " 0   temperature  57576 non-null  float64\n",
      " 1   humidity     57576 non-null  float64\n",
      " 2   pressure     57576 non-null  float64\n",
      " 3   wind_speed   57576 non-null  float64\n",
      "dtypes: float64(4)\n",
      "memory usage: 2.1+ MB\n"
     ]
    }
   ],
   "source": [
    "score_X.info()"
   ]
  },
  {
   "cell_type": "code",
   "execution_count": 7,
   "metadata": {
    "tags": []
   },
   "outputs": [
    {
     "data": {
      "text/html": [
       "<div>\n",
       "<style scoped>\n",
       "    .dataframe tbody tr th:only-of-type {\n",
       "        vertical-align: middle;\n",
       "    }\n",
       "\n",
       "    .dataframe tbody tr th {\n",
       "        vertical-align: top;\n",
       "    }\n",
       "\n",
       "    .dataframe thead th {\n",
       "        text-align: right;\n",
       "    }\n",
       "</style>\n",
       "<table border=\"1\" class=\"dataframe\">\n",
       "  <thead>\n",
       "    <tr style=\"text-align: right;\">\n",
       "      <th></th>\n",
       "      <th></th>\n",
       "      <th>temperature</th>\n",
       "      <th>humidity</th>\n",
       "      <th>pressure</th>\n",
       "      <th>wind_speed</th>\n",
       "    </tr>\n",
       "    <tr>\n",
       "      <th>sample</th>\n",
       "      <th>time</th>\n",
       "      <th></th>\n",
       "      <th></th>\n",
       "      <th></th>\n",
       "      <th></th>\n",
       "    </tr>\n",
       "  </thead>\n",
       "  <tbody>\n",
       "    <tr>\n",
       "      <th rowspan=\"5\" valign=\"top\">Albuquerque/1108/0</th>\n",
       "      <th>2015-02-16 09:00:00</th>\n",
       "      <td>276.323000</td>\n",
       "      <td>47.0</td>\n",
       "      <td>1031.0</td>\n",
       "      <td>3.0</td>\n",
       "    </tr>\n",
       "    <tr>\n",
       "      <th>2015-02-16 10:00:00</th>\n",
       "      <td>275.097667</td>\n",
       "      <td>45.0</td>\n",
       "      <td>1032.0</td>\n",
       "      <td>3.0</td>\n",
       "    </tr>\n",
       "    <tr>\n",
       "      <th>2015-02-16 11:00:00</th>\n",
       "      <td>273.931333</td>\n",
       "      <td>48.0</td>\n",
       "      <td>1032.0</td>\n",
       "      <td>2.0</td>\n",
       "    </tr>\n",
       "    <tr>\n",
       "      <th>2015-02-16 12:00:00</th>\n",
       "      <td>274.380000</td>\n",
       "      <td>46.0</td>\n",
       "      <td>1033.0</td>\n",
       "      <td>2.0</td>\n",
       "    </tr>\n",
       "    <tr>\n",
       "      <th>2015-02-16 13:00:00</th>\n",
       "      <td>272.675333</td>\n",
       "      <td>51.0</td>\n",
       "      <td>1033.0</td>\n",
       "      <td>1.0</td>\n",
       "    </tr>\n",
       "  </tbody>\n",
       "</table>\n",
       "</div>"
      ],
      "text/plain": [
       "                                        temperature  humidity  pressure  \\\n",
       "sample             time                                                   \n",
       "Albuquerque/1108/0 2015-02-16 09:00:00   276.323000      47.0    1031.0   \n",
       "                   2015-02-16 10:00:00   275.097667      45.0    1032.0   \n",
       "                   2015-02-16 11:00:00   273.931333      48.0    1032.0   \n",
       "                   2015-02-16 12:00:00   274.380000      46.0    1033.0   \n",
       "                   2015-02-16 13:00:00   272.675333      51.0    1033.0   \n",
       "\n",
       "                                        wind_speed  \n",
       "sample             time                             \n",
       "Albuquerque/1108/0 2015-02-16 09:00:00         3.0  \n",
       "                   2015-02-16 10:00:00         3.0  \n",
       "                   2015-02-16 11:00:00         2.0  \n",
       "                   2015-02-16 12:00:00         2.0  \n",
       "                   2015-02-16 13:00:00         1.0  "
      ]
     },
     "execution_count": 7,
     "metadata": {},
     "output_type": "execute_result"
    }
   ],
   "source": [
    "train_X.head()"
   ]
  },
  {
   "cell_type": "code",
   "execution_count": 8,
   "metadata": {
    "tags": []
   },
   "outputs": [
    {
     "data": {
      "text/plain": [
       "Index(['Albuquerque', 'Atlanta', 'Boston', 'Charlotte', 'Chicago', 'Dallas',\n",
       "       'Denver', 'Detroit', 'Eilat', 'Haifa', 'Houston', 'Indianapolis',\n",
       "       'Jacksonville', 'Jerusalem', 'Kansas City', 'Las Vegas', 'Los Angeles',\n",
       "       'Miami', 'Minneapolis', 'Montreal', 'Nahariyya', 'Nashville',\n",
       "       'New York', 'Philadelphia', 'Phoenix', 'Pittsburgh', 'Portland',\n",
       "       'Saint Louis', 'San Antonio', 'San Diego', 'San Francisco', 'Seattle',\n",
       "       'Tel Aviv District', 'Toronto', 'Vancouver'],\n",
       "      dtype='object', name='sample')"
      ]
     },
     "execution_count": 8,
     "metadata": {},
     "output_type": "execute_result"
    }
   ],
   "source": [
    "train_X.index.get_level_values(0).str.split('/').str[0].unique()"
   ]
  },
  {
   "cell_type": "code",
   "execution_count": 9,
   "metadata": {
    "tags": []
   },
   "outputs": [
    {
     "data": {
      "text/plain": [
       "Index(['Albuquerque', 'Atlanta', 'Boston', 'Charlotte', 'Chicago', 'Dallas',\n",
       "       'Denver', 'Detroit', 'Eilat', 'Houston', 'Indianapolis', 'Jacksonville',\n",
       "       'Jerusalem', 'Kansas City', 'Las Vegas', 'Miami', 'Minneapolis',\n",
       "       'Nashville', 'New York', 'Philadelphia', 'Phoenix', 'Pittsburgh',\n",
       "       'Saint Louis', 'San Antonio', 'San Diego', 'San Francisco',\n",
       "       'Tel Aviv District', 'Toronto', 'Vancouver'],\n",
       "      dtype='object', name='sample')"
      ]
     },
     "execution_count": 9,
     "metadata": {},
     "output_type": "execute_result"
    }
   ],
   "source": [
    "test_X.index.get_level_values(0).str.split('/').str[0].unique()"
   ]
  },
  {
   "cell_type": "code",
   "execution_count": 10,
   "metadata": {
    "tags": []
   },
   "outputs": [],
   "source": [
    "# from sklearn.preprocessing import OneHotEncoder\n",
    "\n",
    "# def get_additional_features(df):\n",
    "#     # df.reset_index(inplace=True)\n",
    "#     df['year'] = df.index.get_level_values(1).year\n",
    "#     df['month'] = df.index.get_level_values(1).month\n",
    "#     # df['day'] = df.index.get_level_values(1).day\n",
    "#     df['location'] = df.index.get_level_values(0).str.split('/').str[0]\n",
    "#     # df['location_id'], _ = pd.factorize(df['location'])\n",
    "#     df['year_month'] = df['year'].astype(str) + \"_\" + df['month'].astype(str)\n",
    "    \n",
    "#     # location_dummies = pd.get_dummies(df['location'], prefix='location', dtype=float)\n",
    "#     year_month_dummies = pd.get_dummies(df['year_month'], prefix='ym', dtype=float)\n",
    "    \n",
    "#     # df_new = pd.concat([df, location_dummies, year_month_dummies], axis=1)\n",
    "#     df_new = pd.concat([df, year_month_dummies], axis=1)\n",
    "    \n",
    "#     df_new.drop(columns = ['year', 'month', 'location', 'year_month'], inplace=True)\n",
    "    \n",
    "#     return df_new\n",
    "\n",
    "# train_X = get_additional_features(train_X)\n",
    "# train_y = get_additional_features(train_y)\n",
    "# validate_X = get_additional_features(validate_X)\n",
    "# validate_y = get_additional_features(validate_y)\n",
    "# test_X = get_additional_features(test_X)\n",
    "# test_y = get_additional_features(test_y)\n",
    "# score_X = get_additional_features(score_X)"
   ]
  },
  {
   "cell_type": "code",
   "execution_count": 11,
   "metadata": {
    "tags": []
   },
   "outputs": [],
   "source": [
    "cols_to_scale = ['temperature', 'humidity', 'pressure', 'wind_speed']"
   ]
  },
  {
   "cell_type": "code",
   "execution_count": 12,
   "metadata": {
    "colab": {},
    "colab_type": "code",
    "id": "YFwIPc1gAsw_",
    "tags": []
   },
   "outputs": [],
   "source": [
    "from sklearn.preprocessing import StandardScaler, MinMaxScaler\n",
    "import numpy as np\n",
    "\n",
    "# scaler = StandardScaler()\n",
    "scaler = MinMaxScaler(feature_range=(0,1))\n",
    "scaler.fit(train_X[cols_to_scale])\n",
    "\n",
    "scaled_X = {\n",
    "    'train': np.hstack((scaler.transform(train_X[cols_to_scale]), \n",
    "                        train_X[[col for col in train_X.columns if col not in cols_to_scale]].to_numpy())),\n",
    "    'validate': np.hstack((scaler.transform(validate_X[cols_to_scale]), \n",
    "                           validate_X[[col for col in validate_X.columns if col not in cols_to_scale]].to_numpy())),\n",
    "    'test': np.hstack((scaler.transform(test_X[cols_to_scale]), \n",
    "                       test_X[[col for col in test_X.columns if col not in cols_to_scale]].to_numpy())),\n",
    "    'score': np.hstack((scaler.transform(score_X[cols_to_scale]), \n",
    "                        score_X[[col for col in score_X.columns if col not in cols_to_scale]].to_numpy())),\n",
    "}"
   ]
  },
  {
   "cell_type": "code",
   "execution_count": 13,
   "metadata": {
    "colab": {
     "base_uri": "https://localhost:8080/",
     "height": 111
    },
    "colab_type": "code",
    "id": "myyBIe08AsxA",
    "outputId": "4e8b4165-7db7-4507-b4f5-27d27e6ea9e6",
    "tags": []
   },
   "outputs": [
    {
     "data": {
      "text/html": [
       "<div>\n",
       "<style scoped>\n",
       "    .dataframe tbody tr th:only-of-type {\n",
       "        vertical-align: middle;\n",
       "    }\n",
       "\n",
       "    .dataframe tbody tr th {\n",
       "        vertical-align: top;\n",
       "    }\n",
       "\n",
       "    .dataframe thead th {\n",
       "        text-align: right;\n",
       "    }\n",
       "</style>\n",
       "<table border=\"1\" class=\"dataframe\">\n",
       "  <thead>\n",
       "    <tr style=\"text-align: right;\">\n",
       "      <th></th>\n",
       "      <th>actual shape</th>\n",
       "      <th>expected shape</th>\n",
       "    </tr>\n",
       "  </thead>\n",
       "  <tbody>\n",
       "    <tr>\n",
       "      <th>train_X</th>\n",
       "      <td>(826464, 4)</td>\n",
       "      <td>(34436, 24, 4)</td>\n",
       "    </tr>\n",
       "    <tr>\n",
       "      <th>train_y</th>\n",
       "      <td>(826464, 4)</td>\n",
       "      <td>(34436, 24)</td>\n",
       "    </tr>\n",
       "  </tbody>\n",
       "</table>\n",
       "</div>"
      ],
      "text/plain": [
       "        actual shape  expected shape\n",
       "train_X  (826464, 4)  (34436, 24, 4)\n",
       "train_y  (826464, 4)     (34436, 24)"
      ]
     },
     "execution_count": 13,
     "metadata": {},
     "output_type": "execute_result"
    }
   ],
   "source": [
    "# Keras RNN cells expect inputs with 3 dimensions:\n",
    "# (batch_size, condition_window, features_length)\n",
    "# Each RNN cell takes a vector of features_length\n",
    "# at each time step of condition_window.\n",
    "# Internal RNN cell state is reset between different batch samples.\n",
    "\n",
    "# Let's review current shapes of the input, and the desired shapes.\n",
    "features_length = len(train_y.columns)\n",
    "\n",
    "def expected_X_shape(actual_X_shape):\n",
    "    return (int(actual_X_shape[0]/condition_window), condition_window, features_length)\n",
    "\n",
    "def expected_y_shape(actual_y_shape):\n",
    "    return (int(actual_y_shape[0]/prediction_window), prediction_window)\n",
    "\n",
    "\n",
    "pd.DataFrame({\n",
    "    'actual shape': [\n",
    "        train_X.shape, \n",
    "        train_y.shape,\n",
    "    ],\n",
    "    'expected shape': [\n",
    "        expected_X_shape(train_X.shape), \n",
    "        expected_y_shape(train_y.shape), \n",
    "    ],\n",
    "}, index=['train_X', 'train_y'])"
   ]
  },
  {
   "cell_type": "code",
   "execution_count": 14,
   "metadata": {
    "tags": []
   },
   "outputs": [
    {
     "data": {
      "text/html": [
       "<div>\n",
       "<style scoped>\n",
       "    .dataframe tbody tr th:only-of-type {\n",
       "        vertical-align: middle;\n",
       "    }\n",
       "\n",
       "    .dataframe tbody tr th {\n",
       "        vertical-align: top;\n",
       "    }\n",
       "\n",
       "    .dataframe thead th {\n",
       "        text-align: right;\n",
       "    }\n",
       "</style>\n",
       "<table border=\"1\" class=\"dataframe\">\n",
       "  <thead>\n",
       "    <tr style=\"text-align: right;\">\n",
       "      <th></th>\n",
       "      <th>actual shape</th>\n",
       "      <th>expected shape</th>\n",
       "    </tr>\n",
       "  </thead>\n",
       "  <tbody>\n",
       "    <tr>\n",
       "      <th>validate_X</th>\n",
       "      <td>(54912, 4)</td>\n",
       "      <td>(2288, 24, 4)</td>\n",
       "    </tr>\n",
       "    <tr>\n",
       "      <th>validate_y</th>\n",
       "      <td>(54912, 4)</td>\n",
       "      <td>(2288, 24)</td>\n",
       "    </tr>\n",
       "  </tbody>\n",
       "</table>\n",
       "</div>"
      ],
      "text/plain": [
       "           actual shape expected shape\n",
       "validate_X   (54912, 4)  (2288, 24, 4)\n",
       "validate_y   (54912, 4)     (2288, 24)"
      ]
     },
     "execution_count": 14,
     "metadata": {},
     "output_type": "execute_result"
    }
   ],
   "source": [
    "pd.DataFrame({\n",
    "    'actual shape': [\n",
    "        validate_X.shape, \n",
    "        validate_y.shape,\n",
    "    ],\n",
    "    'expected shape': [\n",
    "        expected_X_shape(validate_X.shape), \n",
    "        expected_y_shape(validate_y.shape), \n",
    "    ],\n",
    "}, index=['validate_X', 'validate_y'])"
   ]
  },
  {
   "cell_type": "code",
   "execution_count": 15,
   "metadata": {
    "colab": {},
    "colab_type": "code",
    "id": "Qdij8ebfAsxC",
    "tags": []
   },
   "outputs": [],
   "source": [
    "# Exepected shape can be achieved with a simple reshape call.\n",
    "# Note that these are not Pandas data frames any more,\n",
    "# but Numpy n-dimensional arrays.\n",
    "# https://docs.scipy.org/doc/numpy/reference/generated/numpy.reshape.html\n",
    "\n",
    "\n",
    "def frame_to_ndarray(frame_X, frame_y):\n",
    "    X_nd = frame_X.reshape(-1, condition_window, features_length) #.astype('float32')\n",
    "    y_nd = frame_y['temperature'].values.reshape(-1, prediction_window) #.astype('float32')\n",
    "    return X_nd, y_nd\n",
    "\n",
    "train_X_nd, train_y_nd = frame_to_ndarray(scaled_X['train'], train_y)\n",
    "validate_X_nd, validate_y_nd = frame_to_ndarray(scaled_X['validate'], validate_y)\n",
    "\n",
    "# Task: Transform other segments of the dataset (test, and score).\n",
    "test_X_nd, test_y_nd = frame_to_ndarray(scaled_X['test'], test_y)\n",
    "score_X_nd = scaled_X['score'].reshape(-1, condition_window, features_length) #.astype('float32')"
   ]
  },
  {
   "cell_type": "code",
   "execution_count": 16,
   "metadata": {
    "colab": {
     "base_uri": "https://localhost:8080/",
     "height": 173
    },
    "colab_type": "code",
    "id": "6VWroyVIAsxD",
    "outputId": "90de2f95-244f-4264-b361-605bc125634b",
    "tags": []
   },
   "outputs": [
    {
     "data": {
      "text/html": [
       "<div>\n",
       "<style scoped>\n",
       "    .dataframe tbody tr th:only-of-type {\n",
       "        vertical-align: middle;\n",
       "    }\n",
       "\n",
       "    .dataframe tbody tr th {\n",
       "        vertical-align: top;\n",
       "    }\n",
       "\n",
       "    .dataframe thead th {\n",
       "        text-align: right;\n",
       "    }\n",
       "</style>\n",
       "<table border=\"1\" class=\"dataframe\">\n",
       "  <thead>\n",
       "    <tr style=\"text-align: right;\">\n",
       "      <th></th>\n",
       "      <th>actual shape</th>\n",
       "      <th>expected shape</th>\n",
       "    </tr>\n",
       "  </thead>\n",
       "  <tbody>\n",
       "    <tr>\n",
       "      <th>train_X</th>\n",
       "      <td>(34436, 24, 4)</td>\n",
       "      <td>(34436, 24, 4)</td>\n",
       "    </tr>\n",
       "    <tr>\n",
       "      <th>train_y</th>\n",
       "      <td>(34436, 24)</td>\n",
       "      <td>(34436, 24)</td>\n",
       "    </tr>\n",
       "    <tr>\n",
       "      <th>validate_X</th>\n",
       "      <td>(2288, 24, 4)</td>\n",
       "      <td>(2288, 24, 4)</td>\n",
       "    </tr>\n",
       "    <tr>\n",
       "      <th>validate_y</th>\n",
       "      <td>(2288, 24)</td>\n",
       "      <td>(2288, 24)</td>\n",
       "    </tr>\n",
       "    <tr>\n",
       "      <th>test_X</th>\n",
       "      <td>(2177, 24, 4)</td>\n",
       "      <td>(2177, 24, 4)</td>\n",
       "    </tr>\n",
       "    <tr>\n",
       "      <th>test_y</th>\n",
       "      <td>(2177, 24)</td>\n",
       "      <td>(2177, 24)</td>\n",
       "    </tr>\n",
       "    <tr>\n",
       "      <th>score_X</th>\n",
       "      <td>(2399, 24, 4)</td>\n",
       "      <td>(2399, 24, 4)</td>\n",
       "    </tr>\n",
       "  </tbody>\n",
       "</table>\n",
       "</div>"
      ],
      "text/plain": [
       "              actual shape  expected shape\n",
       "train_X     (34436, 24, 4)  (34436, 24, 4)\n",
       "train_y        (34436, 24)     (34436, 24)\n",
       "validate_X   (2288, 24, 4)   (2288, 24, 4)\n",
       "validate_y      (2288, 24)      (2288, 24)\n",
       "test_X       (2177, 24, 4)   (2177, 24, 4)\n",
       "test_y          (2177, 24)      (2177, 24)\n",
       "score_X      (2399, 24, 4)   (2399, 24, 4)"
      ]
     },
     "execution_count": 16,
     "metadata": {},
     "output_type": "execute_result"
    }
   ],
   "source": [
    "# Let's confirm the expected shape.\n",
    "\n",
    "pd.DataFrame({\n",
    "    'actual shape': [\n",
    "        train_X_nd.shape, \n",
    "        train_y_nd.shape,\n",
    "        validate_X_nd.shape,\n",
    "        validate_y_nd.shape,\n",
    "        test_X_nd.shape,\n",
    "        test_y_nd.shape,\n",
    "        score_X_nd.shape\n",
    "    ],\n",
    "    'expected shape': [\n",
    "        expected_X_shape(train_X.shape), \n",
    "        expected_y_shape(train_y.shape), \n",
    "        expected_X_shape(validate_X.shape), \n",
    "        expected_y_shape(validate_y.shape), \n",
    "        expected_X_shape(test_X.shape),\n",
    "        expected_y_shape(test_y.shape),\n",
    "        expected_X_shape(score_X.shape)\n",
    "    ]},\n",
    "    index=['train_X', 'train_y', 'validate_X', 'validate_y', 'test_X', 'test_y', 'score_X']\n",
    ")"
   ]
  },
  {
   "cell_type": "code",
   "execution_count": 17,
   "metadata": {
    "colab": {
     "base_uri": "https://localhost:8080/",
     "height": 88
    },
    "colab_type": "code",
    "id": "ua-ejkVSAsxF",
    "outputId": "68550ae1-bb43-4217-84c5-4399224181a7",
    "tags": []
   },
   "outputs": [],
   "source": [
    "from tensorflow.keras.layers import GRU, Dense, BatchNormalization, LSTM, Embedding\n",
    "from tensorflow.keras.models import Sequential\n",
    "from tensorflow.keras.initializers import GlorotUniform\n",
    "\n",
    "layers = [\n",
    "        LSTM(\n",
    "            input_shape=(condition_window, features_length),\n",
    "            units=48,\n",
    "            return_sequences=True,  # support another recurrent layer below\n",
    "            recurrent_activation='sigmoid',\n",
    "            # reset_after=True,\n",
    "            kernel_initializer=GlorotUniform(seed=45),\n",
    "            recurrent_initializer=GlorotUniform(seed=46),\n",
    "        ),\n",
    "        BatchNormalization(),\n",
    "        LSTM(\n",
    "            units=16,\n",
    "            return_sequences=False,  # only use the last activation for prediction\n",
    "            recurrent_activation='sigmoid',\n",
    "            # reset_after=True,\n",
    "            kernel_initializer=GlorotUniform(seed=49),\n",
    "            recurrent_initializer=GlorotUniform(seed=50),\n",
    "        ),\n",
    "        BatchNormalization(),\n",
    "        Dense(\n",
    "            units=prediction_window,\n",
    "            kernel_initializer=GlorotUniform(seed=1),\n",
    "            activation='linear'\n",
    "        )\n",
    "]\n",
    "\n",
    "model = Sequential(layers)"
   ]
  },
  {
   "cell_type": "code",
   "execution_count": 18,
   "metadata": {
    "colab": {
     "base_uri": "https://localhost:8080/",
     "height": 88
    },
    "colab_type": "code",
    "id": "ua-ejkVSAsxF",
    "outputId": "68550ae1-bb43-4217-84c5-4399224181a7",
    "tags": []
   },
   "outputs": [],
   "source": [
    "# from tensorflow.keras.layers import GRU, Dense, BatchNormalization, LSTM, Dropout\n",
    "# from tensorflow.keras.models import Sequential\n",
    "# from tensorflow.keras.initializers import GlorotUniform\n",
    "\n",
    "# layers = [\n",
    "#         GRU(\n",
    "#             input_shape=(condition_window, features_length),\n",
    "#             units=48,\n",
    "#             return_sequences=True,  # support another recurrent layer below\n",
    "#             recurrent_activation='sigmoid',\n",
    "#             reset_after=True,\n",
    "#             kernel_initializer=GlorotUniform(seed=47),\n",
    "#             recurrent_initializer=GlorotUniform(seed=48),\n",
    "#         ),\n",
    "#         BatchNormalization(),\n",
    "#         GRU(\n",
    "#             units=16,\n",
    "#             return_sequences=False,  # only use the last activation for prediction\n",
    "#             recurrent_activation='sigmoid',\n",
    "#             reset_after=True,\n",
    "#             kernel_initializer=GlorotUniform(seed=49),\n",
    "#             recurrent_initializer=GlorotUniform(seed=50),\n",
    "#         ),\n",
    "#         BatchNormalization(),\n",
    "#         Dense(\n",
    "#             units=prediction_window,\n",
    "#             kernel_initializer=GlorotUniform(seed=2),\n",
    "#             activation='linear'\n",
    "#         )\n",
    "# ]\n",
    "\n",
    "# model = Sequential(layers)"
   ]
  },
  {
   "cell_type": "code",
   "execution_count": 19,
   "metadata": {
    "colab": {
     "base_uri": "https://localhost:8080/",
     "height": 391
    },
    "colab_type": "code",
    "id": "BY2HyP3iAsxH",
    "outputId": "06a4ecf3-d8c2-4fad-9648-00aa38aa6f40",
    "tags": []
   },
   "outputs": [
    {
     "name": "stdout",
     "output_type": "stream",
     "text": [
      "Model: \"sequential\"\n",
      "_________________________________________________________________\n",
      " Layer (type)                Output Shape              Param #   \n",
      "=================================================================\n",
      " lstm (LSTM)                 (None, 24, 48)            10176     \n",
      "                                                                 \n",
      " batch_normalization (BatchN  (None, 24, 48)           192       \n",
      " ormalization)                                                   \n",
      "                                                                 \n",
      " lstm_1 (LSTM)               (None, 16)                4160      \n",
      "                                                                 \n",
      " batch_normalization_1 (Batc  (None, 16)               64        \n",
      " hNormalization)                                                 \n",
      "                                                                 \n",
      " dense (Dense)               (None, 24)                408       \n",
      "                                                                 \n",
      "=================================================================\n",
      "Total params: 15,000\n",
      "Trainable params: 14,872\n",
      "Non-trainable params: 128\n",
      "_________________________________________________________________\n"
     ]
    }
   ],
   "source": [
    "model.summary()"
   ]
  },
  {
   "cell_type": "code",
   "execution_count": 20,
   "metadata": {
    "colab": {},
    "colab_type": "code",
    "id": "fQK94oOxAsxI",
    "tags": []
   },
   "outputs": [],
   "source": [
    "from utils import r2_score, mean_error\n",
    "from tensorflow.keras.optimizers import Adam\n",
    "\n",
    "# IMPORTANT: In order to pass the assignment, you need\n",
    "# to improve the architecture and/or training procedure of this model.\n",
    "# You CAN NOT submit the model as is. Please add plain English Python\n",
    "# comments on how you modified the model and/or training procedure.\n",
    "\n",
    "model.compile(\n",
    "    optimizer=Adam(learning_rate=0.01),\n",
    "    loss='mean_squared_error',\n",
    "    metrics=[\n",
    "        'mean_absolute_error',\n",
    "        mean_error,\n",
    "        r2_score,\n",
    "    ]\n",
    ")"
   ]
  },
  {
   "cell_type": "code",
   "execution_count": 26,
   "metadata": {
    "colab": {
     "base_uri": "https://localhost:8080/",
     "height": 768
    },
    "colab_type": "code",
    "id": "6j7pwBJRAsxJ",
    "outputId": "b9053e95-9b8c-4999-d220-c752a0490bdb",
    "tags": []
   },
   "outputs": [
    {
     "name": "stdout",
     "output_type": "stream",
     "text": [
      "Epoch 1/10\n",
      "345/345 [==============================] - 9s 26ms/step - loss: 14.4397 - mean_absolute_error: 2.8231 - mean_error: 0.0122 - r2_score: 0.8925 - val_loss: 21.1788 - val_mean_absolute_error: 3.5265 - val_mean_error: -1.5518 - val_r2_score: 0.3678 - lr: 0.0100\n",
      "Epoch 2/10\n",
      "345/345 [==============================] - 9s 26ms/step - loss: 14.3107 - mean_absolute_error: 2.8188 - mean_error: 0.0052 - r2_score: 0.8932 - val_loss: 21.7346 - val_mean_absolute_error: 3.5816 - val_mean_error: 0.2440 - val_r2_score: 0.4131 - lr: 0.0100\n",
      "Epoch 3/10\n",
      "345/345 [==============================] - 9s 26ms/step - loss: 14.5861 - mean_absolute_error: 2.8566 - mean_error: -0.0184 - r2_score: 0.8914 - val_loss: 61.3757 - val_mean_absolute_error: 6.9012 - val_mean_error: -6.4810 - val_r2_score: -1.2622 - lr: 0.0100\n",
      "Epoch 4/10\n",
      "345/345 [==============================] - 9s 26ms/step - loss: 14.1274 - mean_absolute_error: 2.8011 - mean_error: -0.0091 - r2_score: 0.8953 - val_loss: 19.4579 - val_mean_absolute_error: 3.3440 - val_mean_error: 0.2063 - val_r2_score: 0.4805 - lr: 0.0100\n",
      "Epoch 5/10\n",
      "345/345 [==============================] - 9s 26ms/step - loss: 14.1939 - mean_absolute_error: 2.7954 - mean_error: 0.0056 - r2_score: 0.8945 - val_loss: 55.2897 - val_mean_absolute_error: 6.4887 - val_mean_error: -6.0850 - val_r2_score: -0.9883 - lr: 0.0100\n",
      "Epoch 6/10\n",
      "345/345 [==============================] - 9s 27ms/step - loss: 14.2325 - mean_absolute_error: 2.8207 - mean_error: 0.0061 - r2_score: 0.8937 - val_loss: 20.2092 - val_mean_absolute_error: 3.4507 - val_mean_error: -0.6374 - val_r2_score: 0.4280 - lr: 0.0100\n",
      "Epoch 7/10\n",
      "345/345 [==============================] - 9s 27ms/step - loss: 14.0443 - mean_absolute_error: 2.7919 - mean_error: 0.0109 - r2_score: 0.8960 - val_loss: 30.8918 - val_mean_absolute_error: 4.2553 - val_mean_error: 3.0434 - val_r2_score: 0.1231 - lr: 0.0100\n",
      "Epoch 8/10\n",
      "345/345 [==============================] - 10s 28ms/step - loss: 14.2448 - mean_absolute_error: 2.8248 - mean_error: -0.0228 - r2_score: 0.8939 - val_loss: 69.2069 - val_mean_absolute_error: 7.2772 - val_mean_error: -6.9989 - val_r2_score: -1.5196 - lr: 0.0100\n",
      "Epoch 9/10\n",
      "345/345 [==============================] - ETA: 0s - loss: 14.3175 - mean_absolute_error: 2.8390 - mean_error: 0.0294 - r2_score: 0.8934  \n",
      "Epoch 9: ReduceLROnPlateau reducing learning rate to 0.0009999999776482583.\n",
      "345/345 [==============================] - 9s 27ms/step - loss: 14.3175 - mean_absolute_error: 2.8390 - mean_error: 0.0294 - r2_score: 0.8934 - val_loss: 20.0529 - val_mean_absolute_error: 3.3904 - val_mean_error: -1.3257 - val_r2_score: 0.4583 - lr: 0.0100\n",
      "Epoch 10/10\n",
      "345/345 [==============================] - 9s 25ms/step - loss: 13.0224 - mean_absolute_error: 2.6733 - mean_error: -0.0512 - r2_score: 0.9030 - val_loss: 17.4894 - val_mean_absolute_error: 3.0869 - val_mean_error: 0.1125 - val_r2_score: 0.5465 - lr: 1.0000e-03\n",
      "CPU times: user 3min 41s, sys: 40.7 s, total: 4min 22s\n",
      "Wall time: 1min 31s\n"
     ]
    }
   ],
   "source": [
    "%%time\n",
    "\n",
    "from tensorflow.keras.callbacks import TerminateOnNaN, ReduceLROnPlateau, EarlyStopping\n",
    "\n",
    "# IMPORTANT: In order to pass the assignment, you need\n",
    "# to improve the architecture and/or training procedure of this model.\n",
    "# You CAN NOT submit the model as is. Please add plain English Python\n",
    "# comments on how you modified the model and/or training procedure.\n",
    "\n",
    "history = model.fit(\n",
    "    train_X_nd,\n",
    "    train_y_nd,\n",
    "    validation_data=(validate_X_nd, validate_y_nd),\n",
    "    epochs=10,\n",
    "    batch_size=100,\n",
    "    callbacks=[\n",
    "        TerminateOnNaN(), # stops training if gradient becomes NaN\n",
    "        ReduceLROnPlateau(\n",
    "            monitor='loss',\n",
    "            min_delta=0.1,\n",
    "            patience=5,\n",
    "            factor=0.1,\n",
    "            cooldown=10,\n",
    "            verbose=1\n",
    "        ),\n",
    "        EarlyStopping(\n",
    "            monitor='loss',\n",
    "            min_delta=0.1,\n",
    "            patience=10\n",
    "        )\n",
    "    ]\n",
    ")"
   ]
  },
  {
   "cell_type": "code",
   "execution_count": 27,
   "metadata": {
    "colab": {
     "base_uri": "https://localhost:8080/",
     "height": 111
    },
    "colab_type": "code",
    "id": "HjV3kM3NAsxL",
    "outputId": "bf1e244c-a6c1-4dd5-9134-ab1c0854415c",
    "tags": []
   },
   "outputs": [
    {
     "data": {
      "text/html": [
       "<div>\n",
       "<style scoped>\n",
       "    .dataframe tbody tr th:only-of-type {\n",
       "        vertical-align: middle;\n",
       "    }\n",
       "\n",
       "    .dataframe tbody tr th {\n",
       "        vertical-align: top;\n",
       "    }\n",
       "\n",
       "    .dataframe thead tr th {\n",
       "        text-align: left;\n",
       "    }\n",
       "</style>\n",
       "<table border=\"1\" class=\"dataframe\">\n",
       "  <thead>\n",
       "    <tr>\n",
       "      <th></th>\n",
       "      <th colspan=\"4\" halign=\"left\">train</th>\n",
       "      <th colspan=\"4\" halign=\"left\">validate</th>\n",
       "      <th colspan=\"4\" halign=\"left\">test</th>\n",
       "    </tr>\n",
       "    <tr>\n",
       "      <th></th>\n",
       "      <th>MSE</th>\n",
       "      <th>MAE</th>\n",
       "      <th>ME</th>\n",
       "      <th>R2</th>\n",
       "      <th>MSE</th>\n",
       "      <th>MAE</th>\n",
       "      <th>ME</th>\n",
       "      <th>R2</th>\n",
       "      <th>MSE</th>\n",
       "      <th>MAE</th>\n",
       "      <th>ME</th>\n",
       "      <th>R2</th>\n",
       "    </tr>\n",
       "  </thead>\n",
       "  <tbody>\n",
       "    <tr>\n",
       "      <th>rnn</th>\n",
       "      <td>11.53</td>\n",
       "      <td>2.47</td>\n",
       "      <td>-0.28</td>\n",
       "      <td>0.92</td>\n",
       "      <td>17.49</td>\n",
       "      <td>3.09</td>\n",
       "      <td>0.1</td>\n",
       "      <td>0.8</td>\n",
       "      <td>12.58</td>\n",
       "      <td>2.66</td>\n",
       "      <td>-0.6</td>\n",
       "      <td>0.83</td>\n",
       "    </tr>\n",
       "  </tbody>\n",
       "</table>\n",
       "</div>"
      ],
      "text/plain": [
       "     train                   validate                   test                 \n",
       "       MSE   MAE    ME    R2      MSE   MAE   ME   R2    MSE   MAE   ME    R2\n",
       "rnn  11.53  2.47 -0.28  0.92    17.49  3.09  0.1  0.8  12.58  2.66 -0.6  0.83"
      ]
     },
     "execution_count": 27,
     "metadata": {},
     "output_type": "execute_result"
    }
   ],
   "source": [
    "# Note that Keras evaluates metrics in batches,\n",
    "# which is okay for averaging-stable metrics like ME, MSE, and MAE,\n",
    "# but R2 requires full dataset to evaluate precisely.\n",
    "\n",
    "# This implies two things:\n",
    "# 1) R2 as reported during training is not precise\n",
    "# 2) when evaluating R2 after training, batch size must match dataset size\n",
    "\n",
    "nd_array_by_segment = {\n",
    "    'train': (train_X_nd, train_y_nd),\n",
    "    'validate': (validate_X_nd, validate_y_nd),\n",
    "    'test': (test_X_nd, test_y_nd)\n",
    "}\n",
    "\n",
    "metrics_by_segment = {\n",
    "    segment: model.evaluate(\n",
    "        X_nd, \n",
    "        y_nd, \n",
    "        verbose=0, \n",
    "        batch_size=X_nd.shape[0]\n",
    "    )\n",
    "    for segment, (X_nd, y_nd) in nd_array_by_segment.items()\n",
    "}\n",
    "\n",
    "rnn_metrics = pd.concat([\n",
    "    pd.DataFrame(\n",
    "        data=[metrics], \n",
    "        columns=['MSE', 'MAE', 'ME', 'R2'], \n",
    "        index=[segment]\n",
    "    )\n",
    "    for segment, metrics in metrics_by_segment.items()\n",
    "])\n",
    "\n",
    "rnn_metrics = pd.DataFrame([rnn_metrics.unstack()], index=['rnn'])\\\n",
    "    .swaplevel(axis=1, i=0, j=1)\\\n",
    "    .reindex(nd_array_by_segment.keys(), axis=1, level=0)\\\n",
    "    .round(2)\n",
    "\n",
    "rnn_metrics"
   ]
  },
  {
   "cell_type": "code",
   "execution_count": 28,
   "metadata": {
    "colab": {},
    "colab_type": "code",
    "id": "KYaptXSgAsxM",
    "tags": []
   },
   "outputs": [],
   "source": [
    "from utils import SegmentDataset, baseline_metrics\n",
    "\n",
    "segment_names = ['train', 'validate', 'test']\n",
    "panel_dataset = SegmentDataset.from_pq_workdir(prefix, segment_names, ['x', 'y'])\n",
    "baseline_metrics = baseline_metrics(panel_dataset)"
   ]
  },
  {
   "cell_type": "code",
   "execution_count": 29,
   "metadata": {
    "colab": {
     "base_uri": "https://localhost:8080/",
     "height": 204
    },
    "colab_type": "code",
    "id": "d3g0CfgSAsxO",
    "outputId": "78c898b3-eab4-4ddb-86f7-8ed3469ca977",
    "tags": []
   },
   "outputs": [
    {
     "data": {
      "text/html": [
       "<div>\n",
       "<style scoped>\n",
       "    .dataframe tbody tr th:only-of-type {\n",
       "        vertical-align: middle;\n",
       "    }\n",
       "\n",
       "    .dataframe tbody tr th {\n",
       "        vertical-align: top;\n",
       "    }\n",
       "\n",
       "    .dataframe thead tr th {\n",
       "        text-align: left;\n",
       "    }\n",
       "</style>\n",
       "<table border=\"1\" class=\"dataframe\">\n",
       "  <thead>\n",
       "    <tr>\n",
       "      <th></th>\n",
       "      <th colspan=\"2\" halign=\"left\">train</th>\n",
       "      <th colspan=\"2\" halign=\"left\">validate</th>\n",
       "      <th colspan=\"2\" halign=\"left\">test</th>\n",
       "    </tr>\n",
       "    <tr>\n",
       "      <th></th>\n",
       "      <th>MSE</th>\n",
       "      <th>R2</th>\n",
       "      <th>MSE</th>\n",
       "      <th>R2</th>\n",
       "      <th>MSE</th>\n",
       "      <th>R2</th>\n",
       "    </tr>\n",
       "  </thead>\n",
       "  <tbody>\n",
       "    <tr>\n",
       "      <th>mean</th>\n",
       "      <td>26.77</td>\n",
       "      <td>0.80</td>\n",
       "      <td>37.23</td>\n",
       "      <td>0.58</td>\n",
       "      <td>28.52</td>\n",
       "      <td>0.61</td>\n",
       "    </tr>\n",
       "    <tr>\n",
       "      <th>constant</th>\n",
       "      <td>21.82</td>\n",
       "      <td>0.84</td>\n",
       "      <td>40.25</td>\n",
       "      <td>0.54</td>\n",
       "      <td>20.20</td>\n",
       "      <td>0.72</td>\n",
       "    </tr>\n",
       "    <tr>\n",
       "      <th>regression</th>\n",
       "      <td>30.53</td>\n",
       "      <td>0.78</td>\n",
       "      <td>29.94</td>\n",
       "      <td>0.66</td>\n",
       "      <td>33.64</td>\n",
       "      <td>0.54</td>\n",
       "    </tr>\n",
       "    <tr>\n",
       "      <th>rnn</th>\n",
       "      <td>11.53</td>\n",
       "      <td>0.92</td>\n",
       "      <td>17.49</td>\n",
       "      <td>0.80</td>\n",
       "      <td>12.58</td>\n",
       "      <td>0.83</td>\n",
       "    </tr>\n",
       "  </tbody>\n",
       "</table>\n",
       "</div>"
      ],
      "text/plain": [
       "            train       validate         test      \n",
       "              MSE    R2      MSE    R2    MSE    R2\n",
       "mean        26.77  0.80    37.23  0.58  28.52  0.61\n",
       "constant    21.82  0.84    40.25  0.54  20.20  0.72\n",
       "regression  30.53  0.78    29.94  0.66  33.64  0.54\n",
       "rnn         11.53  0.92    17.49  0.80  12.58  0.83"
      ]
     },
     "execution_count": 29,
     "metadata": {},
     "output_type": "execute_result"
    }
   ],
   "source": [
    "pd.concat([\n",
    "    baseline_metrics,\n",
    "    rnn_metrics\n",
    "], axis=0).loc[:, [('train', 'MSE'), ('train', 'R2'), \n",
    "                   ('validate', 'MSE'), ('validate', 'R2'),\n",
    "                   ('test', 'MSE'), ('test', 'R2')]].round(3)"
   ]
  },
  {
   "cell_type": "code",
   "execution_count": 34,
   "metadata": {},
   "outputs": [
    {
     "data": {
      "text/plain": [
       "(2399, 24, 4)"
      ]
     },
     "execution_count": 34,
     "metadata": {},
     "output_type": "execute_result"
    }
   ],
   "source": [
    "score_X_nd.shape"
   ]
  },
  {
   "cell_type": "code",
   "execution_count": 35,
   "metadata": {
    "tags": []
   },
   "outputs": [
    {
     "data": {
      "text/plain": [
       "array([[0.6384    , 0.46315789, 0.75085324, 0.06818182],\n",
       "       [0.63893333, 0.53684211, 0.75085324, 0.06818182],\n",
       "       [0.68626667, 0.46315789, 0.75426621, 0.04545455],\n",
       "       [0.69973333, 0.41052632, 0.75426621, 0.06818182],\n",
       "       [0.73333333, 0.32631579, 0.75085324, 0.06818182],\n",
       "       [0.7532    , 0.24210526, 0.75085324, 0.02272727],\n",
       "       [0.78666667, 0.21052632, 0.75085324, 0.04545455],\n",
       "       [0.8       , 0.17894737, 0.74744027, 0.11363636],\n",
       "       [0.81333333, 0.14736842, 0.7440273 , 0.04545455],\n",
       "       [0.80533333, 0.14736842, 0.74061433, 0.06818182],\n",
       "       [0.81866667, 0.13684211, 0.73720137, 0.04545455],\n",
       "       [0.82666667, 0.12631579, 0.73037543, 0.13636364],\n",
       "       [0.8       , 0.15789474, 0.7337884 , 0.13636364],\n",
       "       [0.7596    , 0.26315789, 0.7337884 , 0.22727273],\n",
       "       [0.74133333, 0.53684211, 0.7440273 , 0.18181818],\n",
       "       [0.6796    , 0.53684211, 0.7440273 , 0.09090909],\n",
       "       [0.67186667, 0.53684211, 0.7440273 , 0.11363636],\n",
       "       [0.6656    , 0.57894737, 0.74744027, 0.06818182],\n",
       "       [0.65186667, 0.81052632, 0.75085324, 0.09090909],\n",
       "       [0.64053333, 0.86315789, 0.74744027, 0.04545455],\n",
       "       [0.64613333, 0.81052632, 0.74744027, 0.06818182],\n",
       "       [0.6272    , 0.86315789, 0.75085324, 0.02272727],\n",
       "       [0.64053333, 0.81052632, 0.74744027, 0.04545455],\n",
       "       [0.6272    , 0.81052632, 0.74744027, 0.04545455]])"
      ]
     },
     "execution_count": 35,
     "metadata": {},
     "output_type": "execute_result"
    }
   ],
   "source": [
    "score_X_nd[0]"
   ]
  },
  {
   "cell_type": "code",
   "execution_count": 31,
   "metadata": {
    "colab": {
     "base_uri": "https://localhost:8080/",
     "height": 1000
    },
    "colab_type": "code",
    "id": "TWlxlwY4AsxQ",
    "outputId": "a9f9c0ab-3b9e-41db-a96b-a25e2ce4fd49",
    "scrolled": true,
    "tags": []
   },
   "outputs": [],
   "source": [
    "score_y_hat = model.predict(score_X_nd)"
   ]
  },
  {
   "cell_type": "code",
   "execution_count": 33,
   "metadata": {
    "tags": []
   },
   "outputs": [
    {
     "data": {
      "text/plain": [
       "(2399, 24)"
      ]
     },
     "execution_count": 33,
     "metadata": {},
     "output_type": "execute_result"
    }
   ],
   "source": [
    "score_y_hat.shape"
   ]
  },
  {
   "cell_type": "code",
   "execution_count": 38,
   "metadata": {
    "tags": []
   },
   "outputs": [],
   "source": [
    "score_y_hat_reshaped = score_y_hat.reshape(score_y_hat.shape[0]*score_y_hat.shape[1], 1)"
   ]
  },
  {
   "cell_type": "code",
   "execution_count": 40,
   "metadata": {
    "tags": []
   },
   "outputs": [
    {
     "data": {
      "text/plain": [
       "(57576, 1)"
      ]
     },
     "execution_count": 40,
     "metadata": {},
     "output_type": "execute_result"
    }
   ],
   "source": [
    "score_y_hat_reshaped.shape"
   ]
  },
  {
   "cell_type": "code",
   "execution_count": 41,
   "metadata": {
    "colab": {
     "base_uri": "https://localhost:8080/",
     "height": 34
    },
    "colab_type": "code",
    "id": "utzcIZ7YJX2O",
    "outputId": "ba15402c-3bf7-4a29-fd51-702d33357c23",
    "tags": []
   },
   "outputs": [
    {
     "data": {
      "text/plain": [
       "(Index(['temperature'], dtype='object'), (57576, 1))"
      ]
     },
     "execution_count": 41,
     "metadata": {},
     "output_type": "execute_result"
    }
   ],
   "source": [
    "# TODO: save your predictions on the Score segment as a Pandas data frame\n",
    "# into a variable named score_y_hat.\n",
    "score_y_hat_df = pd.DataFrame(score_y_hat_reshaped, columns=['temperature'])\n",
    "\n",
    "# Keras model will output an array of shape (2399, 24) for the Score segment,\n",
    "# however the expected shape of the submitted data frame is (57576, 1).\n",
    "# 57576 = 2399 (count of samples in Score segment) x 24 (prediction window).\n",
    "# Use NumPy's reshape() or ravel() functions to achieve this.\n",
    "\n",
    "# Finally, the data frame needs to have string column names in order to be saved\n",
    "# as a Parquet file. If you convert a NumPy array to Pandas data frame,\n",
    "# column names will be integers, but you can replace the columns names.\n",
    "# There was a similar example of this in the notebook from the first assignment.\n",
    "\n",
    "# Expected output: (Index(['temperature'], dtype='object'), (57576, 1))\n",
    "score_y_hat_df.columns, score_y_hat_df.shape"
   ]
  },
  {
   "cell_type": "code",
   "execution_count": 42,
   "metadata": {
    "colab": {},
    "colab_type": "code",
    "id": "doTzp2__DsMt"
   },
   "outputs": [],
   "source": [
    "# Once you are satisfied with your model,\n",
    "# your need to submit 4 files:\n",
    "# 1. this notebook and/or any other Python scripts\n",
    "# 2. Model definition in JSON format\n",
    "# 3. Model parameters in H5 format\n",
    "# 4. temperature forecast for the Score segment\n",
    "\n",
    "import os\n",
    "model_dir = 'weathernet_model'\n",
    "os.makedirs(model_dir, exist_ok=True)\n",
    "\n",
    "# Save model definition:\n",
    "import json\n",
    "with open(f'{model_dir}/keras_model.json', 'w') as f:\n",
    "    model_json = json.dumps(json.loads(model.to_json()), indent=True)\n",
    "    f.write(model_json)\n",
    "\n",
    "# Save the learned parameters.\n",
    "model.save_weights(f\"{model_dir}/keras_parameters.h5\")\n",
    "\n",
    "# Finally, let's save the forecast.\n",
    "score_y_hat_df.to_parquet(f'{model_dir}/score_y_hat.parquet')"
   ]
  },
  {
   "cell_type": "markdown",
   "metadata": {},
   "source": [
    "# RNN model experiments\n",
    "\n",
    "While my experiments were not at scale, I made attempts on changing cell types, model architectures, and adding auxilliary variables to see if there was improvements on the R squared of the test data. \n",
    "\n",
    "## Cell type\n",
    "I found that LSTM cells perform better than GRU given other hyperparameters remain the same. \n",
    "\n",
    "## Model architecture\n",
    "I stacked more layers to the GRU or LSTM as well as added more Dense layers. Neither performed better than a simpler architecture with 2 LSTM layers and 1 Dense decoder layer. In fact, more GRU layers resulted in a negative R squared. I also tried adding Dropout layers with a rate of 0.05 in between the LSTM / GRU layers to prevent overfitting on the training dataset but that did not improve performance. \n",
    "\n",
    "## Feature scaler\n",
    "Assignment template suggested the scaling of the features to have a distribution of mean 0 and variance 1. After looking at the features, their distributions do not look close to normal. For example, wind speed and pressure are clustered around certain values rather than symmetrically spread out. By using MinMaxScaler, I did not assume the feature distribution but made the feature range from 0 to 1. This change increased the R squared to 0.83.\n",
    "\n",
    "## Auxillary variables\n",
    "Intuitively adding more features for the model to learn should increase model fit (i.e., R squared). However, the feature engineering was not as straightforward as I thought. Locations and calendar features are categorical variables. For example, after adding four more columns, such as year, month, day, and location ID (which was assigned to each unique city), I didn't apply the scaler to these variables because they were nominal with no order. The addition of these categorical variables decreased model fit, indicating an alternative needed to include these categorical variables.\n",
    "\n",
    "Perhaps I needed to explore better features, such as the lattitude and longitude of cities, the continent in which these cities are in, or more aggregated temperature at the city level (e.g., city average monthly temperature, city maximum weekly temperature, etc.). Perhaps I needed to add regularization layers to my architecture. For this assignment, I've decided to cap my efforts at a 0.83 score for the test set. "
   ]
  },
  {
   "cell_type": "code",
   "execution_count": 44,
   "metadata": {
    "tags": []
   },
   "outputs": [
    {
     "data": {
      "image/png": "[encoded data removed]",
      "text/plain": [
       "<IPython.core.display.Image object>"
      ]
     },
     "execution_count": 44,
     "metadata": {},
     "output_type": "execute_result"
    }
   ],
   "source": [
    "from IPython.display import Image\n",
    "\n",
    "image_path = 'RNN Experiments.png'\n",
    "Image(filename=image_path)"
   ]
  }
 ],
 "metadata": {
  "accelerator": "GPU",
  "availableInstances": [
   {
    "_defaultOrder": 0,
    "_isFastLaunch": true,
    "category": "General purpose",
    "gpuNum": 0,
    "hideHardwareSpecs": false,
    "memoryGiB": 4,
    "name": "ml.t3.medium",
    "vcpuNum": 2
   },
   {
    "_defaultOrder": 1,
    "_isFastLaunch": false,
    "category": "General purpose",
    "gpuNum": 0,
    "hideHardwareSpecs": false,
    "memoryGiB": 8,
    "name": "ml.t3.large",
    "vcpuNum": 2
   },
   {
    "_defaultOrder": 2,
    "_isFastLaunch": false,
    "category": "General purpose",
    "gpuNum": 0,
    "hideHardwareSpecs": false,
    "memoryGiB": 16,
    "name": "ml.t3.xlarge",
    "vcpuNum": 4
   },
   {
    "_defaultOrder": 3,
    "_isFastLaunch": false,
    "category": "General purpose",
    "gpuNum": 0,
    "hideHardwareSpecs": false,
    "memoryGiB": 32,
    "name": "ml.t3.2xlarge",
    "vcpuNum": 8
   },
   {
    "_defaultOrder": 4,
    "_isFastLaunch": true,
    "category": "General purpose",
    "gpuNum": 0,
    "hideHardwareSpecs": false,
    "memoryGiB": 8,
    "name": "ml.m5.large",
    "vcpuNum": 2
   },
   {
    "_defaultOrder": 5,
    "_isFastLaunch": false,
    "category": "General purpose",
    "gpuNum": 0,
    "hideHardwareSpecs": false,
    "memoryGiB": 16,
    "name": "ml.m5.xlarge",
    "vcpuNum": 4
   },
   {
    "_defaultOrder": 6,
    "_isFastLaunch": false,
    "category": "General purpose",
    "gpuNum": 0,
    "hideHardwareSpecs": false,
    "memoryGiB": 32,
    "name": "ml.m5.2xlarge",
    "vcpuNum": 8
   },
   {
    "_defaultOrder": 7,
    "_isFastLaunch": false,
    "category": "General purpose",
    "gpuNum": 0,
    "hideHardwareSpecs": false,
    "memoryGiB": 64,
    "name": "ml.m5.4xlarge",
    "vcpuNum": 16
   },
   {
    "_defaultOrder": 8,
    "_isFastLaunch": false,
    "category": "General purpose",
    "gpuNum": 0,
    "hideHardwareSpecs": false,
    "memoryGiB": 128,
    "name": "ml.m5.8xlarge",
    "vcpuNum": 32
   },
   {
    "_defaultOrder": 9,
    "_isFastLaunch": false,
    "category": "General purpose",
    "gpuNum": 0,
    "hideHardwareSpecs": false,
    "memoryGiB": 192,
    "name": "ml.m5.12xlarge",
    "vcpuNum": 48
   },
   {
    "_defaultOrder": 10,
    "_isFastLaunch": false,
    "category": "General purpose",
    "gpuNum": 0,
    "hideHardwareSpecs": false,
    "memoryGiB": 256,
    "name": "ml.m5.16xlarge",
    "vcpuNum": 64
   },
   {
    "_defaultOrder": 11,
    "_isFastLaunch": false,
    "category": "General purpose",
    "gpuNum": 0,
    "hideHardwareSpecs": false,
    "memoryGiB": 384,
    "name": "ml.m5.24xlarge",
    "vcpuNum": 96
   },
   {
    "_defaultOrder": 12,
    "_isFastLaunch": false,
    "category": "General purpose",
    "gpuNum": 0,
    "hideHardwareSpecs": false,
    "memoryGiB": 8,
    "name": "ml.m5d.large",
    "vcpuNum": 2
   },
   {
    "_defaultOrder": 13,
    "_isFastLaunch": false,
    "category": "General purpose",
    "gpuNum": 0,
    "hideHardwareSpecs": false,
    "memoryGiB": 16,
    "name": "ml.m5d.xlarge",
    "vcpuNum": 4
   },
   {
    "_defaultOrder": 14,
    "_isFastLaunch": false,
    "category": "General purpose",
    "gpuNum": 0,
    "hideHardwareSpecs": false,
    "memoryGiB": 32,
    "name": "ml.m5d.2xlarge",
    "vcpuNum": 8
   },
   {
    "_defaultOrder": 15,
    "_isFastLaunch": false,
    "category": "General purpose",
    "gpuNum": 0,
    "hideHardwareSpecs": false,
    "memoryGiB": 64,
    "name": "ml.m5d.4xlarge",
    "vcpuNum": 16
   },
   {
    "_defaultOrder": 16,
    "_isFastLaunch": false,
    "category": "General purpose",
    "gpuNum": 0,
    "hideHardwareSpecs": false,
    "memoryGiB": 128,
    "name": "ml.m5d.8xlarge",
    "vcpuNum": 32
   },
   {
    "_defaultOrder": 17,
    "_isFastLaunch": false,
    "category": "General purpose",
    "gpuNum": 0,
    "hideHardwareSpecs": false,
    "memoryGiB": 192,
    "name": "ml.m5d.12xlarge",
    "vcpuNum": 48
   },
   {
    "_defaultOrder": 18,
    "_isFastLaunch": false,
    "category": "General purpose",
    "gpuNum": 0,
    "hideHardwareSpecs": false,
    "memoryGiB": 256,
    "name": "ml.m5d.16xlarge",
    "vcpuNum": 64
   },
   {
    "_defaultOrder": 19,
    "_isFastLaunch": false,
    "category": "General purpose",
    "gpuNum": 0,
    "hideHardwareSpecs": false,
    "memoryGiB": 384,
    "name": "ml.m5d.24xlarge",
    "vcpuNum": 96
   },
   {
    "_defaultOrder": 20,
    "_isFastLaunch": false,
    "category": "General purpose",
    "gpuNum": 0,
    "hideHardwareSpecs": true,
    "memoryGiB": 0,
    "name": "ml.geospatial.interactive",
    "supportedImageNames": [
     "sagemaker-geospatial-v1-0"
    ],
    "vcpuNum": 0
   },
   {
    "_defaultOrder": 21,
    "_isFastLaunch": true,
    "category": "Compute optimized",
    "gpuNum": 0,
    "hideHardwareSpecs": false,
    "memoryGiB": 4,
    "name": "ml.c5.large",
    "vcpuNum": 2
   },
   {
    "_defaultOrder": 22,
    "_isFastLaunch": false,
    "category": "Compute optimized",
    "gpuNum": 0,
    "hideHardwareSpecs": false,
    "memoryGiB": 8,
    "name": "ml.c5.xlarge",
    "vcpuNum": 4
   },
   {
    "_defaultOrder": 23,
    "_isFastLaunch": false,
    "category": "Compute optimized",
    "gpuNum": 0,
    "hideHardwareSpecs": false,
    "memoryGiB": 16,
    "name": "ml.c5.2xlarge",
    "vcpuNum": 8
   },
   {
    "_defaultOrder": 24,
    "_isFastLaunch": false,
    "category": "Compute optimized",
    "gpuNum": 0,
    "hideHardwareSpecs": false,
    "memoryGiB": 32,
    "name": "ml.c5.4xlarge",
    "vcpuNum": 16
   },
   {
    "_defaultOrder": 25,
    "_isFastLaunch": false,
    "category": "Compute optimized",
    "gpuNum": 0,
    "hideHardwareSpecs": false,
    "memoryGiB": 72,
    "name": "ml.c5.9xlarge",
    "vcpuNum": 36
   },
   {
    "_defaultOrder": 26,
    "_isFastLaunch": false,
    "category": "Compute optimized",
    "gpuNum": 0,
    "hideHardwareSpecs": false,
    "memoryGiB": 96,
    "name": "ml.c5.12xlarge",
    "vcpuNum": 48
   },
   {
    "_defaultOrder": 27,
    "_isFastLaunch": false,
    "category": "Compute optimized",
    "gpuNum": 0,
    "hideHardwareSpecs": false,
    "memoryGiB": 144,
    "name": "ml.c5.18xlarge",
    "vcpuNum": 72
   },
   {
    "_defaultOrder": 28,
    "_isFastLaunch": false,
    "category": "Compute optimized",
    "gpuNum": 0,
    "hideHardwareSpecs": false,
    "memoryGiB": 192,
    "name": "ml.c5.24xlarge",
    "vcpuNum": 96
   },
   {
    "_defaultOrder": 29,
    "_isFastLaunch": true,
    "category": "Accelerated computing",
    "gpuNum": 1,
    "hideHardwareSpecs": false,
    "memoryGiB": 16,
    "name": "ml.g4dn.xlarge",
    "vcpuNum": 4
   },
   {
    "_defaultOrder": 30,
    "_isFastLaunch": false,
    "category": "Accelerated computing",
    "gpuNum": 1,
    "hideHardwareSpecs": false,
    "memoryGiB": 32,
    "name": "ml.g4dn.2xlarge",
    "vcpuNum": 8
   },
   {
    "_defaultOrder": 31,
    "_isFastLaunch": false,
    "category": "Accelerated computing",
    "gpuNum": 1,
    "hideHardwareSpecs": false,
    "memoryGiB": 64,
    "name": "ml.g4dn.4xlarge",
    "vcpuNum": 16
   },
   {
    "_defaultOrder": 32,
    "_isFastLaunch": false,
    "category": "Accelerated computing",
    "gpuNum": 1,
    "hideHardwareSpecs": false,
    "memoryGiB": 128,
    "name": "ml.g4dn.8xlarge",
    "vcpuNum": 32
   },
   {
    "_defaultOrder": 33,
    "_isFastLaunch": false,
    "category": "Accelerated computing",
    "gpuNum": 4,
    "hideHardwareSpecs": false,
    "memoryGiB": 192,
    "name": "ml.g4dn.12xlarge",
    "vcpuNum": 48
   },
   {
    "_defaultOrder": 34,
    "_isFastLaunch": false,
    "category": "Accelerated computing",
    "gpuNum": 1,
    "hideHardwareSpecs": false,
    "memoryGiB": 256,
    "name": "ml.g4dn.16xlarge",
    "vcpuNum": 64
   },
   {
    "_defaultOrder": 35,
    "_isFastLaunch": false,
    "category": "Accelerated computing",
    "gpuNum": 1,
    "hideHardwareSpecs": false,
    "memoryGiB": 61,
    "name": "ml.p3.2xlarge",
    "vcpuNum": 8
   },
   {
    "_defaultOrder": 36,
    "_isFastLaunch": false,
    "category": "Accelerated computing",
    "gpuNum": 4,
    "hideHardwareSpecs": false,
    "memoryGiB": 244,
    "name": "ml.p3.8xlarge",
    "vcpuNum": 32
   },
   {
    "_defaultOrder": 37,
    "_isFastLaunch": false,
    "category": "Accelerated computing",
    "gpuNum": 8,
    "hideHardwareSpecs": false,
    "memoryGiB": 488,
    "name": "ml.p3.16xlarge",
    "vcpuNum": 64
   },
   {
    "_defaultOrder": 38,
    "_isFastLaunch": false,
    "category": "Accelerated computing",
    "gpuNum": 8,
    "hideHardwareSpecs": false,
    "memoryGiB": 768,
    "name": "ml.p3dn.24xlarge",
    "vcpuNum": 96
   },
   {
    "_defaultOrder": 39,
    "_isFastLaunch": false,
    "category": "Memory Optimized",
    "gpuNum": 0,
    "hideHardwareSpecs": false,
    "memoryGiB": 16,
    "name": "ml.r5.large",
    "vcpuNum": 2
   },
   {
    "_defaultOrder": 40,
    "_isFastLaunch": false,
    "category": "Memory Optimized",
    "gpuNum": 0,
    "hideHardwareSpecs": false,
    "memoryGiB": 32,
    "name": "ml.r5.xlarge",
    "vcpuNum": 4
   },
   {
    "_defaultOrder": 41,
    "_isFastLaunch": false,
    "category": "Memory Optimized",
    "gpuNum": 0,
    "hideHardwareSpecs": false,
    "memoryGiB": 64,
    "name": "ml.r5.2xlarge",
    "vcpuNum": 8
   },
   {
    "_defaultOrder": 42,
    "_isFastLaunch": false,
    "category": "Memory Optimized",
    "gpuNum": 0,
    "hideHardwareSpecs": false,
    "memoryGiB": 128,
    "name": "ml.r5.4xlarge",
    "vcpuNum": 16
   },
   {
    "_defaultOrder": 43,
    "_isFastLaunch": false,
    "category": "Memory Optimized",
    "gpuNum": 0,
    "hideHardwareSpecs": false,
    "memoryGiB": 256,
    "name": "ml.r5.8xlarge",
    "vcpuNum": 32
   },
   {
    "_defaultOrder": 44,
    "_isFastLaunch": false,
    "category": "Memory Optimized",
    "gpuNum": 0,
    "hideHardwareSpecs": false,
    "memoryGiB": 384,
    "name": "ml.r5.12xlarge",
    "vcpuNum": 48
   },
   {
    "_defaultOrder": 45,
    "_isFastLaunch": false,
    "category": "Memory Optimized",
    "gpuNum": 0,
    "hideHardwareSpecs": false,
    "memoryGiB": 512,
    "name": "ml.r5.16xlarge",
    "vcpuNum": 64
   },
   {
    "_defaultOrder": 46,
    "_isFastLaunch": false,
    "category": "Memory Optimized",
    "gpuNum": 0,
    "hideHardwareSpecs": false,
    "memoryGiB": 768,
    "name": "ml.r5.24xlarge",
    "vcpuNum": 96
   },
   {
    "_defaultOrder": 47,
    "_isFastLaunch": false,
    "category": "Accelerated computing",
    "gpuNum": 1,
    "hideHardwareSpecs": false,
    "memoryGiB": 16,
    "name": "ml.g5.xlarge",
    "vcpuNum": 4
   },
   {
    "_defaultOrder": 48,
    "_isFastLaunch": false,
    "category": "Accelerated computing",
    "gpuNum": 1,
    "hideHardwareSpecs": false,
    "memoryGiB": 32,
    "name": "ml.g5.2xlarge",
    "vcpuNum": 8
   },
   {
    "_defaultOrder": 49,
    "_isFastLaunch": false,
    "category": "Accelerated computing",
    "gpuNum": 1,
    "hideHardwareSpecs": false,
    "memoryGiB": 64,
    "name": "ml.g5.4xlarge",
    "vcpuNum": 16
   },
   {
    "_defaultOrder": 50,
    "_isFastLaunch": false,
    "category": "Accelerated computing",
    "gpuNum": 1,
    "hideHardwareSpecs": false,
    "memoryGiB": 128,
    "name": "ml.g5.8xlarge",
    "vcpuNum": 32
   },
   {
    "_defaultOrder": 51,
    "_isFastLaunch": false,
    "category": "Accelerated computing",
    "gpuNum": 1,
    "hideHardwareSpecs": false,
    "memoryGiB": 256,
    "name": "ml.g5.16xlarge",
    "vcpuNum": 64
   },
   {
    "_defaultOrder": 52,
    "_isFastLaunch": false,
    "category": "Accelerated computing",
    "gpuNum": 4,
    "hideHardwareSpecs": false,
    "memoryGiB": 192,
    "name": "ml.g5.12xlarge",
    "vcpuNum": 48
   },
   {
    "_defaultOrder": 53,
    "_isFastLaunch": false,
    "category": "Accelerated computing",
    "gpuNum": 4,
    "hideHardwareSpecs": false,
    "memoryGiB": 384,
    "name": "ml.g5.24xlarge",
    "vcpuNum": 96
   },
   {
    "_defaultOrder": 54,
    "_isFastLaunch": false,
    "category": "Accelerated computing",
    "gpuNum": 8,
    "hideHardwareSpecs": false,
    "memoryGiB": 768,
    "name": "ml.g5.48xlarge",
    "vcpuNum": 192
   },
   {
    "_defaultOrder": 55,
    "_isFastLaunch": false,
    "category": "Accelerated computing",
    "gpuNum": 8,
    "hideHardwareSpecs": false,
    "memoryGiB": 1152,
    "name": "ml.p4d.24xlarge",
    "vcpuNum": 96
   },
   {
    "_defaultOrder": 56,
    "_isFastLaunch": false,
    "category": "Accelerated computing",
    "gpuNum": 8,
    "hideHardwareSpecs": false,
    "memoryGiB": 1152,
    "name": "ml.p4de.24xlarge",
    "vcpuNum": 96
   }
  ],
  "colab": {
   "name": "WeatherForecast.ipynb",
   "provenance": []
  },
  "instance_type": "ml.t3.xlarge",
  "kernelspec": {
   "display_name": "Python 3 (ipykernel)",
   "language": "python",
   "name": "python3"
  },
  "language_info": {
   "codemirror_mode": {
    "name": "ipython",
    "version": 3
   },
   "file_extension": ".py",
   "mimetype": "text/x-python",
   "name": "python",
   "nbconvert_exporter": "python",
   "pygments_lexer": "ipython3",
   "version": "3.10.12"
  },
  "lcc_arn": "arn:aws:sagemaker:us-west-2:081606037347:studio-lifecycle-config/collegium-kernel-r4"
 },
 "nbformat": 4,
 "nbformat_minor": 4
}
